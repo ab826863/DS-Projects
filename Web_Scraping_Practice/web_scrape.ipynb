{
 "cells": [
  {
   "cell_type": "code",
   "execution_count": 16,
   "metadata": {},
   "outputs": [],
   "source": [
    "from bs4 import BeautifulSoup as bs\n",
    "import requests\n",
    "import re"
   ]
  },
  {
   "cell_type": "code",
   "execution_count": 24,
   "metadata": {},
   "outputs": [],
   "source": [
    "def remove_reference(text):\n",
    "    return re.sub(r\"\\[\\d+\\]\", \"\", text).strip()\n",
    "\n",
    "def get_content_value(row_data):\n",
    "    if row_data.find(\"li\"):\n",
    "        return [remove_reference(li.get_text(\" \", strip=True).replace(\"\\xa0\", \" \")) for li in row_data.find_all(\"li\")]\n",
    "\n",
    "    \n",
    "    else:\n",
    "        return remove_reference(row_data.get_text(\" \", strip=True).replace(\"\\xa0\", \" \"))\n",
    "\n",
    "def get_info_box(url):\n",
    "\n",
    "    r = requests.get(url)\n",
    "\n",
    "    soup = bs(r.content)\n",
    "    contents = soup.prettify()\n",
    "    info_box = soup.find(class_=\"infobox vevent\")\n",
    "    info_rows = info_box.find_all(\"tr\")\n",
    "\n",
    "    movie_info = {}\n",
    "    for index, row in enumerate(info_rows):\n",
    "        if index == 0:\n",
    "            movie_info['title'] = row.find('th').get_text(\" \", strip=True)\n",
    "        elif index == 1:\n",
    "            continue\n",
    "        else:\n",
    "            content_key = row.find('th').get_text(' ', strip=True)\n",
    "            content_value = get_content_value(row.find('td'))\n",
    "            movie_info[content_key] = content_value\n",
    "\n",
    "    return movie_info"
   ]
  },
  {
   "cell_type": "code",
   "execution_count": 25,
   "metadata": {},
   "outputs": [
    {
     "data": {
      "text/plain": [
       "{'title': 'Cinderella',\n",
       " 'Directed by': ['Wilfred Jackson', 'Hamilton Luske', 'Clyde Geronimi'],\n",
       " 'Story by': ['William Peet',\n",
       "  'Ted Sears',\n",
       "  'Homer Brightman',\n",
       "  'Kenneth Anderson',\n",
       "  'Erdman Penner',\n",
       "  'Winston Hibler',\n",
       "  'Harry Reeves',\n",
       "  'Joe Rinaldi'],\n",
       " 'Based on': '\" Cinderella \" by Charles Perrault',\n",
       " 'Produced by': ['Walt Disney', 'Ben Sharpsteen'],\n",
       " 'Starring': ['Ilene Woods',\n",
       "  'Eleanor Audley',\n",
       "  'Verna Felton',\n",
       "  'Rhoda Williams',\n",
       "  'James MacDonald',\n",
       "  'Luis van Rooten'],\n",
       " 'Edited by': 'Donald Halliday',\n",
       " 'Music by': ['Oliver Wallace', 'Paul Smith'],\n",
       " 'Production company': 'Walt Disney Productions',\n",
       " 'Distributed by': 'RKO Radio Pictures',\n",
       " 'Release dates': ['February 15, 1950 ( 1950-02-15 ) (Boston)',\n",
       "  'March 4, 1950 ( 1950-03-04 ) (United States)'],\n",
       " 'Running time': '74 minutes',\n",
       " 'Country': 'United States',\n",
       " 'Language': 'English',\n",
       " 'Budget': '$2.2 million',\n",
       " 'Box office': '$182 million'}"
      ]
     },
     "execution_count": 25,
     "metadata": {},
     "output_type": "execute_result"
    }
   ],
   "source": [
    "get_info_box(\"https://en.wikipedia.org/wiki/Cinderella_(1950_film)\")"
   ]
  },
  {
   "cell_type": "code",
   "execution_count": 26,
   "metadata": {},
   "outputs": [
    {
     "name": "stdout",
     "output_type": "stream",
     "text": [
      "0\n"
     ]
    }
   ],
   "source": [
    "r = requests.get(\"https://en.wikipedia.org/wiki/List_of_Walt_Disney_Pictures_films\")\n",
    "\n",
    "# Convert to beautiful soup object\n",
    "soup = bs(r.content)\n",
    "\n",
    "movies = soup.select(\".wikitable.sortable i a\")\n",
    "\n",
    "base_path = \"https://en.wikipedia.org/\"\n",
    "movie_info_list = []\n",
    "\n",
    "for index, movie in enumerate(movies):\n",
    "    if index == 5:\n",
    "        break \n",
    "    \n",
    "    if index % 10 == 0:\n",
    "        print(index)\n",
    "    try:\n",
    "        relative_path = movie['href']\n",
    "        full_path = base_path + relative_path\n",
    "        title = movie['title']\n",
    "\n",
    "        movie_info_list.append(get_info_box(full_path))\n",
    "    \n",
    "    except Exception as e:\n",
    "        print(movie.get_text())\n",
    "        print(e)\n"
   ]
  },
  {
   "cell_type": "code",
   "execution_count": 27,
   "metadata": {},
   "outputs": [
    {
     "data": {
      "text/plain": [
       "[{'title': 'Snow White and the Seven Dwarfs',\n",
       "  'Directed by': ['David Hand',\n",
       "   'Perce Pearce',\n",
       "   'William Cottrell',\n",
       "   'Larry Morey',\n",
       "   'Wilfred Jackson',\n",
       "   'Ben Sharpsteen'],\n",
       "  'Story by': ['Ted Sears',\n",
       "   'Richard Creedon',\n",
       "   'Otto Englander',\n",
       "   'Dick Rickard',\n",
       "   'Earl Hurd',\n",
       "   'Merrill De Maris',\n",
       "   'Dorothy Ann Blank',\n",
       "   'Webb Smith'],\n",
       "  'Based on': '\" Snow White \" by the Brothers Grimm',\n",
       "  'Produced by': 'Walt Disney',\n",
       "  'Starring': ['Adriana Caselotti',\n",
       "   'Roy Atwell',\n",
       "   'Pinto Colvig',\n",
       "   'Otis Harlan',\n",
       "   'Scotty Mattraw',\n",
       "   'Billy Gilbert',\n",
       "   'Eddie Collins'],\n",
       "  'Music by': ['Frank Churchill', 'Leigh Harline', 'Paul Smith'],\n",
       "  'Production company': 'Walt Disney Productions',\n",
       "  'Distributed by': 'RKO Radio Pictures',\n",
       "  'Release dates': ['December 21, 1937 ( 1937-12-21 ) ( Carthay Circle Theatre )',\n",
       "   'February 4, 1938 ( 1938-02-04 ) (United States)'],\n",
       "  'Running time': '83 minutes',\n",
       "  'Country': 'United States',\n",
       "  'Language': 'English',\n",
       "  'Budget': '$1.5 million',\n",
       "  'Box office': '$418 million'},\n",
       " {'title': 'Pinocchio',\n",
       "  'Directed by': ['Ben Sharpsteen',\n",
       "   'Hamilton Luske',\n",
       "   'Bill Roberts',\n",
       "   'Norman Ferguson',\n",
       "   'Jack Kinney',\n",
       "   'Wilfred Jackson',\n",
       "   'T. Hee'],\n",
       "  'Story by': ['Ted Sears',\n",
       "   'Otto Englander',\n",
       "   'Webb Smith',\n",
       "   'William Cottrell',\n",
       "   'Joseph Sabo',\n",
       "   'Erdman Penner',\n",
       "   'Aurelius Battaglia'],\n",
       "  'Based on': 'The Adventures of Pinocchio by Carlo Collodi',\n",
       "  'Produced by': 'Walt Disney',\n",
       "  'Starring': ['Cliff Edwards',\n",
       "   'Dickie Jones',\n",
       "   'Christian Rub',\n",
       "   'Walter Catlett',\n",
       "   'Charles Judels',\n",
       "   'Evelyn Venable',\n",
       "   'Frankie Darro'],\n",
       "  'Music by': ['Leigh Harline', 'Paul J. Smith'],\n",
       "  'Production company': 'Walt Disney Productions',\n",
       "  'Distributed by': 'RKO Radio Pictures',\n",
       "  'Release dates': ['February 7, 1940 ( 1940-02-07 ) ( Center Theatre )',\n",
       "   'February 23, 1940 ( 1940-02-23 ) (United States)'],\n",
       "  'Running time': '88 minutes',\n",
       "  'Country': 'United States',\n",
       "  'Language': 'English',\n",
       "  'Budget': '$2.6 million',\n",
       "  'Box office': '$164 million'},\n",
       " {'title': 'Fantasia',\n",
       "  'Directed by': ['Samuel Armstrong',\n",
       "   'James Algar',\n",
       "   'Bill Roberts',\n",
       "   'Paul Satterfield',\n",
       "   'Ben Sharpsteen',\n",
       "   'David D. Hand',\n",
       "   'Hamilton Luske',\n",
       "   'Jim Handley',\n",
       "   'Ford Beebe',\n",
       "   'T. Hee',\n",
       "   'Norman Ferguson',\n",
       "   'Wilfred Jackson'],\n",
       "  'Story by': ['Joe Grant', 'Dick Huemer'],\n",
       "  'Produced by': ['Walt Disney', 'Ben Sharpsteen'],\n",
       "  'Starring': ['Leopold Stokowski', 'Deems Taylor'],\n",
       "  'Narrated by': 'Deems Taylor',\n",
       "  'Cinematography': 'James Wong Howe',\n",
       "  'Music by': 'See plot',\n",
       "  'Production company': 'Walt Disney Productions',\n",
       "  'Distributed by': 'RKO Radio Pictures',\n",
       "  'Release date': ['November 13, 1940 ( 1940-11-13 )'],\n",
       "  'Running time': '126 minutes',\n",
       "  'Country': 'United States',\n",
       "  'Language': 'English',\n",
       "  'Budget': '$2.28 million',\n",
       "  'Box office': '$76.4–$83.3 million (United States and Canada)'},\n",
       " {'title': 'The Reluctant Dragon',\n",
       "  'Directed by': 'Alfred Werker (live action) Hamilton Luske (animation) Jack Cutting , Ub Iwerks , Jack Kinney (sequence directors)',\n",
       "  'Written by': 'Live-action: Ted Sears Al Perkins Larry Clemmons Bill Cottrell Harry Clork Robert Benchley The Reluctant Dragon segment: Kenneth Grahame (original book) Erdman Penner T. Hee Baby Weems segment: Joe Grant Dick Huemer John Miller',\n",
       "  'Produced by': 'Walt Disney',\n",
       "  'Starring': 'Robert Benchley Frances Gifford Buddy Pepper Nana Bryant',\n",
       "  'Cinematography': 'Bert Glennon',\n",
       "  'Edited by': 'Paul Weatherwax',\n",
       "  'Music by': 'Frank Churchill Larry Morey',\n",
       "  'Production company': 'Walt Disney Productions',\n",
       "  'Distributed by': 'RKO Radio Pictures',\n",
       "  'Release date': ['June 27, 1941 ( 1941-06-27 )'],\n",
       "  'Running time': '74 minutes',\n",
       "  'Country': 'United States',\n",
       "  'Language': 'English',\n",
       "  'Budget': '$600,000',\n",
       "  'Box office': '$960,000 (worldwide rentals)'},\n",
       " {'title': 'Dumbo',\n",
       "  'Directed by': ['Ben Sharpsteen',\n",
       "   'Norman Ferguson',\n",
       "   'Wilfred Jackson',\n",
       "   'Bill Roberts',\n",
       "   'Jack Kinney',\n",
       "   'Samuel Armstrong'],\n",
       "  'Story by': ['Joe Grant', 'Dick Huemer'],\n",
       "  'Based on': 'Dumbo, the Flying Elephant by Helen Aberson Harold Pearl',\n",
       "  'Produced by': 'Walt Disney',\n",
       "  'Starring': ['Edward Brophy',\n",
       "   'Verna Felton',\n",
       "   'Cliff Edwards',\n",
       "   'Herman Bing',\n",
       "   'Sterling Holloway',\n",
       "   'Margaret Wright',\n",
       "   'Hall Johnson Choir'],\n",
       "  'Narrated by': 'John McLeish',\n",
       "  'Music by': 'Frank Churchill Oliver Wallace',\n",
       "  'Production company': 'Walt Disney Productions',\n",
       "  'Distributed by': 'RKO Radio Pictures',\n",
       "  'Release dates': ['October 23, 1941 ( 1941-10-23 ) (New York City)',\n",
       "   'October 31, 1941 ( 1941-10-31 ) (U.S.)'],\n",
       "  'Running time': '64 minutes',\n",
       "  'Country': 'United States',\n",
       "  'Language': 'English',\n",
       "  'Budget': '$950,000',\n",
       "  'Box office': '>$1.3 million (est. United States/Canada rentals, 1941)'}]"
      ]
     },
     "execution_count": 27,
     "metadata": {},
     "output_type": "execute_result"
    }
   ],
   "source": [
    "movie_info_list"
   ]
  },
  {
   "cell_type": "code",
   "execution_count": 8,
   "metadata": {},
   "outputs": [
    {
     "name": "stdout",
     "output_type": "stream",
     "text": [
      "None\n"
     ]
    }
   ],
   "source": [
    "import re\n",
    "\n",
    "number = r\"\\d+(,\\d{3})*\\.*\\d*\"\n",
    "\n",
    "print(re.search(number, '$ Million'))"
   ]
  },
  {
   "cell_type": "code",
   "execution_count": 9,
   "metadata": {},
   "outputs": [
    {
     "data": {
      "text/plain": [
       "'September 6, 2010'"
      ]
     },
     "execution_count": 9,
     "metadata": {},
     "output_type": "execute_result"
    }
   ],
   "source": [
    "date = 'September 6, 2010 ( El Cardio)'\n",
    "date.split(\"(\")[0].strip()"
   ]
  },
  {
   "cell_type": "code",
   "execution_count": 11,
   "metadata": {},
   "outputs": [
    {
     "name": "stdout",
     "output_type": "stream",
     "text": [
      "Fail to retrieve data 401\n"
     ]
    }
   ],
   "source": [
    "import requests\n",
    "\n",
    "api_key = \"http://www.omdbapi.com/?apikey=[yourkey]&\"\n",
    "\n",
    "base_url = \"https://www.omdbapi.com/\"\n",
    "\n",
    "params = {\n",
    "    'apikey': api_key,\n",
    "    's': 'Into the Woods'\n",
    "}\n",
    "\n",
    "response = requests.get(base_url, params=params)\n",
    "if response.status_code == 200:\n",
    "    a = response.json\n",
    "\n",
    "else:\n",
    "    print(f\"Fail to retrieve data {response.status_code}\")"
   ]
  },
  {
   "cell_type": "code",
   "execution_count": null,
   "metadata": {},
   "outputs": [],
   "source": [
    "for movie in movie_info_list:\n",
    "    title = movie['title']\n",
    "    omdb_info = get_omdb_info(title)\n",
    "    movie['imdb'] = get_omdb_info.get('imdbRating', None)\n",
    "    movie['metascore'] = get_omdb_info('Metascore', None)\n",
    "    movie['rotten_tomatoes'] = get_rotten_tomato_score(omdb_info)"
   ]
  }
 ],
 "metadata": {
  "kernelspec": {
   "display_name": "Python 3",
   "language": "python",
   "name": "python3"
  },
  "language_info": {
   "codemirror_mode": {
    "name": "ipython",
    "version": 3
   },
   "file_extension": ".py",
   "mimetype": "text/x-python",
   "name": "python",
   "nbconvert_exporter": "python",
   "pygments_lexer": "ipython3",
   "version": "3.10.11"
  }
 },
 "nbformat": 4,
 "nbformat_minor": 2
}
